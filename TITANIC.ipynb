{
 "cells": [
  {
   "cell_type": "code",
   "execution_count": 1,
   "id": "9f9ccbf8-d7b5-4286-ad0d-b4ca7dbc8a84",
   "metadata": {},
   "outputs": [],
   "source": [
    "# Import all the essentials\n",
    "import pandas as pd\n",
    "import numpy as np\n",
    "import matplotlib.pyplot as plt\n",
    "import seaborn as sns\n",
    "\n",
    "# Machine learning\n",
    "from sklearn.model_selection import train_test_split\n",
    "from sklearn.preprocessing import LabelEncoder\n",
    "from sklearn.ensemble import RandomForestClassifier\n",
    "from sklearn.metrics import accuracy_score, classification_report, confusion_matrix\n"
   ]
  },
  {
   "cell_type": "code",
   "execution_count": 2,
   "id": "04a56a0a-8844-4fae-be8f-cfb1fd9be068",
   "metadata": {},
   "outputs": [
    {
     "name": "stdout",
     "output_type": "stream",
     "text": [
      "File loaded successfully!\n"
     ]
    }
   ],
   "source": [
    "#Load the titanic dataset\n",
    "import os\n",
    "file_path = r\"C:\\Users\\DELL\\Desktop\\ML\\Titanic-Dataset.csv\"\n",
    "if os.path.exists(file_path):\n",
    "    df = pd.read_csv(file_path)\n",
    "    print(\"File loaded successfully!\")\n",
    "else:\n",
    "    print(\"Error: File not found at\", file_path)"
   ]
  },
  {
   "cell_type": "code",
   "execution_count": 3,
   "id": "a8529809-35b3-4420-b645-11180212b37d",
   "metadata": {},
   "outputs": [
    {
     "data": {
      "text/html": [
       "<div>\n",
       "<style scoped>\n",
       "    .dataframe tbody tr th:only-of-type {\n",
       "        vertical-align: middle;\n",
       "    }\n",
       "\n",
       "    .dataframe tbody tr th {\n",
       "        vertical-align: top;\n",
       "    }\n",
       "\n",
       "    .dataframe thead th {\n",
       "        text-align: right;\n",
       "    }\n",
       "</style>\n",
       "<table border=\"1\" class=\"dataframe\">\n",
       "  <thead>\n",
       "    <tr style=\"text-align: right;\">\n",
       "      <th></th>\n",
       "      <th>PassengerId</th>\n",
       "      <th>Survived</th>\n",
       "      <th>Pclass</th>\n",
       "      <th>Name</th>\n",
       "      <th>Sex</th>\n",
       "      <th>Age</th>\n",
       "      <th>SibSp</th>\n",
       "      <th>Parch</th>\n",
       "      <th>Ticket</th>\n",
       "      <th>Fare</th>\n",
       "      <th>Cabin</th>\n",
       "      <th>Embarked</th>\n",
       "    </tr>\n",
       "  </thead>\n",
       "  <tbody>\n",
       "    <tr>\n",
       "      <th>0</th>\n",
       "      <td>1</td>\n",
       "      <td>0</td>\n",
       "      <td>3</td>\n",
       "      <td>Braund, Mr. Owen Harris</td>\n",
       "      <td>male</td>\n",
       "      <td>22.0</td>\n",
       "      <td>1</td>\n",
       "      <td>0</td>\n",
       "      <td>A/5 21171</td>\n",
       "      <td>7.2500</td>\n",
       "      <td>NaN</td>\n",
       "      <td>S</td>\n",
       "    </tr>\n",
       "    <tr>\n",
       "      <th>1</th>\n",
       "      <td>2</td>\n",
       "      <td>1</td>\n",
       "      <td>1</td>\n",
       "      <td>Cumings, Mrs. John Bradley (Florence Briggs Th...</td>\n",
       "      <td>female</td>\n",
       "      <td>38.0</td>\n",
       "      <td>1</td>\n",
       "      <td>0</td>\n",
       "      <td>PC 17599</td>\n",
       "      <td>71.2833</td>\n",
       "      <td>C85</td>\n",
       "      <td>C</td>\n",
       "    </tr>\n",
       "    <tr>\n",
       "      <th>2</th>\n",
       "      <td>3</td>\n",
       "      <td>1</td>\n",
       "      <td>3</td>\n",
       "      <td>Heikkinen, Miss. Laina</td>\n",
       "      <td>female</td>\n",
       "      <td>26.0</td>\n",
       "      <td>0</td>\n",
       "      <td>0</td>\n",
       "      <td>STON/O2. 3101282</td>\n",
       "      <td>7.9250</td>\n",
       "      <td>NaN</td>\n",
       "      <td>S</td>\n",
       "    </tr>\n",
       "    <tr>\n",
       "      <th>3</th>\n",
       "      <td>4</td>\n",
       "      <td>1</td>\n",
       "      <td>1</td>\n",
       "      <td>Futrelle, Mrs. Jacques Heath (Lily May Peel)</td>\n",
       "      <td>female</td>\n",
       "      <td>35.0</td>\n",
       "      <td>1</td>\n",
       "      <td>0</td>\n",
       "      <td>113803</td>\n",
       "      <td>53.1000</td>\n",
       "      <td>C123</td>\n",
       "      <td>S</td>\n",
       "    </tr>\n",
       "    <tr>\n",
       "      <th>4</th>\n",
       "      <td>5</td>\n",
       "      <td>0</td>\n",
       "      <td>3</td>\n",
       "      <td>Allen, Mr. William Henry</td>\n",
       "      <td>male</td>\n",
       "      <td>35.0</td>\n",
       "      <td>0</td>\n",
       "      <td>0</td>\n",
       "      <td>373450</td>\n",
       "      <td>8.0500</td>\n",
       "      <td>NaN</td>\n",
       "      <td>S</td>\n",
       "    </tr>\n",
       "  </tbody>\n",
       "</table>\n",
       "</div>"
      ],
      "text/plain": [
       "   PassengerId  Survived  Pclass  \\\n",
       "0            1         0       3   \n",
       "1            2         1       1   \n",
       "2            3         1       3   \n",
       "3            4         1       1   \n",
       "4            5         0       3   \n",
       "\n",
       "                                                Name     Sex   Age  SibSp  \\\n",
       "0                            Braund, Mr. Owen Harris    male  22.0      1   \n",
       "1  Cumings, Mrs. John Bradley (Florence Briggs Th...  female  38.0      1   \n",
       "2                             Heikkinen, Miss. Laina  female  26.0      0   \n",
       "3       Futrelle, Mrs. Jacques Heath (Lily May Peel)  female  35.0      1   \n",
       "4                           Allen, Mr. William Henry    male  35.0      0   \n",
       "\n",
       "   Parch            Ticket     Fare Cabin Embarked  \n",
       "0      0         A/5 21171   7.2500   NaN        S  \n",
       "1      0          PC 17599  71.2833   C85        C  \n",
       "2      0  STON/O2. 3101282   7.9250   NaN        S  \n",
       "3      0            113803  53.1000  C123        S  \n",
       "4      0            373450   8.0500   NaN        S  "
      ]
     },
     "execution_count": 3,
     "metadata": {},
     "output_type": "execute_result"
    }
   ],
   "source": [
    "#displaying first 5 rows of titanic dataset \n",
    "df.head()"
   ]
  },
  {
   "cell_type": "code",
   "execution_count": 14,
   "id": "d46d1c04-637b-4d40-9db7-c0d4b7136c77",
   "metadata": {},
   "outputs": [
    {
     "name": "stdout",
     "output_type": "stream",
     "text": [
      "Survived    0\n",
      "Pclass      0\n",
      "Sex         0\n",
      "Age         0\n",
      "SibSp       0\n",
      "Parch       0\n",
      "Fare        0\n",
      "Embarked    0\n",
      "dtype: int64\n"
     ]
    }
   ],
   "source": [
    "# Check for missing values\n",
    "print(df.isnull().sum())\n",
    "\n",
    "# Fill missing Age with median\n",
    "df['Age'] = df['Age'].fillna(df['Age'].median())\n",
    "\n",
    "# Fill missing Embarked with mode\n",
    "df['Embarked'] = df['Embarked'].fillna(df['Embarked'].mode()[0])\n",
    "\n",
    "# Drop 'Cabin' only if it exists\n",
    "if 'Cabin' in df.columns:\n",
    "    df = df.drop('Cabin', axis=1)\n",
    "\n",
    "# Same for Ticket, Name, PassengerId\n",
    "for col in ['Ticket', 'Name', 'PassengerId']:\n",
    "    if col in df.columns:\n",
    "        df = df.drop(col, axis=1)\n",
    "\n"
   ]
  },
  {
   "cell_type": "code",
   "execution_count": 19,
   "id": "59ec046c-80fa-41de-b225-22dd3099901e",
   "metadata": {},
   "outputs": [
    {
     "data": {
      "text/html": [
       "<div>\n",
       "<style scoped>\n",
       "    .dataframe tbody tr th:only-of-type {\n",
       "        vertical-align: middle;\n",
       "    }\n",
       "\n",
       "    .dataframe tbody tr th {\n",
       "        vertical-align: top;\n",
       "    }\n",
       "\n",
       "    .dataframe thead th {\n",
       "        text-align: right;\n",
       "    }\n",
       "</style>\n",
       "<table border=\"1\" class=\"dataframe\">\n",
       "  <thead>\n",
       "    <tr style=\"text-align: right;\">\n",
       "      <th></th>\n",
       "      <th>Survived</th>\n",
       "      <th>Pclass</th>\n",
       "      <th>Sex</th>\n",
       "      <th>Age</th>\n",
       "      <th>SibSp</th>\n",
       "      <th>Parch</th>\n",
       "      <th>Fare</th>\n",
       "      <th>Embarked</th>\n",
       "    </tr>\n",
       "  </thead>\n",
       "  <tbody>\n",
       "    <tr>\n",
       "      <th>0</th>\n",
       "      <td>0</td>\n",
       "      <td>3</td>\n",
       "      <td>1</td>\n",
       "      <td>22.0</td>\n",
       "      <td>1</td>\n",
       "      <td>0</td>\n",
       "      <td>7.2500</td>\n",
       "      <td>2</td>\n",
       "    </tr>\n",
       "    <tr>\n",
       "      <th>1</th>\n",
       "      <td>1</td>\n",
       "      <td>1</td>\n",
       "      <td>0</td>\n",
       "      <td>38.0</td>\n",
       "      <td>1</td>\n",
       "      <td>0</td>\n",
       "      <td>71.2833</td>\n",
       "      <td>0</td>\n",
       "    </tr>\n",
       "    <tr>\n",
       "      <th>2</th>\n",
       "      <td>1</td>\n",
       "      <td>3</td>\n",
       "      <td>0</td>\n",
       "      <td>26.0</td>\n",
       "      <td>0</td>\n",
       "      <td>0</td>\n",
       "      <td>7.9250</td>\n",
       "      <td>2</td>\n",
       "    </tr>\n",
       "    <tr>\n",
       "      <th>3</th>\n",
       "      <td>1</td>\n",
       "      <td>1</td>\n",
       "      <td>0</td>\n",
       "      <td>35.0</td>\n",
       "      <td>1</td>\n",
       "      <td>0</td>\n",
       "      <td>53.1000</td>\n",
       "      <td>2</td>\n",
       "    </tr>\n",
       "    <tr>\n",
       "      <th>4</th>\n",
       "      <td>0</td>\n",
       "      <td>3</td>\n",
       "      <td>1</td>\n",
       "      <td>35.0</td>\n",
       "      <td>0</td>\n",
       "      <td>0</td>\n",
       "      <td>8.0500</td>\n",
       "      <td>2</td>\n",
       "    </tr>\n",
       "  </tbody>\n",
       "</table>\n",
       "</div>"
      ],
      "text/plain": [
       "   Survived  Pclass  Sex   Age  SibSp  Parch     Fare  Embarked\n",
       "0         0       3    1  22.0      1      0   7.2500         2\n",
       "1         1       1    0  38.0      1      0  71.2833         0\n",
       "2         1       3    0  26.0      0      0   7.9250         2\n",
       "3         1       1    0  35.0      1      0  53.1000         2\n",
       "4         0       3    1  35.0      0      0   8.0500         2"
      ]
     },
     "execution_count": 19,
     "metadata": {},
     "output_type": "execute_result"
    }
   ],
   "source": [
    "# Encode 'Sex' and 'Embarked' columns\n",
    "label_encoder = LabelEncoder()\n",
    "\n",
    "df['Sex'] = label_encoder.fit_transform(df['Sex'])\n",
    "df['Embarked'] = label_encoder.fit_transform(df['Embarked'])\n",
    "#Sex: 0 = Female, 1 = Male\n",
    "\n",
    "#Embarked: 0 = Cherbourg (C), 1 = Queenstown (Q), 2 = Southampton (S) )\n",
    "# Double check\n",
    "df.head()\n"
   ]
  },
  {
   "cell_type": "code",
   "execution_count": 20,
   "id": "60e8dc41-18b3-45c7-9ad2-3a5af023b105",
   "metadata": {},
   "outputs": [
    {
     "name": "stdout",
     "output_type": "stream",
     "text": [
      "Accuracy: 0.8212290502793296\n",
      "\n",
      "Confusion Matrix:\n",
      " [[91 14]\n",
      " [18 56]]\n",
      "\n",
      "Classification Report:\n",
      "               precision    recall  f1-score   support\n",
      "\n",
      "           0       0.83      0.87      0.85       105\n",
      "           1       0.80      0.76      0.78        74\n",
      "\n",
      "    accuracy                           0.82       179\n",
      "   macro avg       0.82      0.81      0.81       179\n",
      "weighted avg       0.82      0.82      0.82       179\n",
      "\n"
     ]
    }
   ],
   "source": [
    "# 1. Import libraries\n",
    "from sklearn.model_selection import train_test_split\n",
    "from sklearn.ensemble import RandomForestClassifier\n",
    "from sklearn.metrics import accuracy_score, confusion_matrix, classification_report\n",
    "\n",
    "# 2. Separate input (X) and output (y)\n",
    "X = df.drop('Survived', axis=1)  # features\n",
    "y = df['Survived']               # target\n",
    "\n",
    "# 3. Split into training and testing data\n",
    "X_train, X_test, y_train, y_test = train_test_split(X, y, test_size=0.2, random_state=42)\n",
    "\n",
    "# 4. Create a Random Forest model (simple but powerful)\n",
    "model = RandomForestClassifier()\n",
    "\n",
    "# 5. Train the model\n",
    "model.fit(X_train, y_train)\n",
    "\n",
    "# 6. Predict on test data\n",
    "y_pred = model.predict(X_test)\n",
    "\n",
    "# 7. Evaluate the model\n",
    "print(\"Accuracy:\", accuracy_score(y_test, y_pred))\n",
    "print(\"\\nConfusion Matrix:\\n\", confusion_matrix(y_test, y_pred))\n",
    "print(\"\\nClassification Report:\\n\", classification_report(y_test, y_pred))\n"
   ]
  },
  {
   "cell_type": "code",
   "execution_count": 25,
   "id": "fd4c28c4-3686-43af-8430-5b38f110e283",
   "metadata": {},
   "outputs": [
    {
     "name": "stdout",
     "output_type": "stream",
     "text": [
      "Model saved successfully! 🎯\n",
      "Model loaded successfully! 🚀\n"
     ]
    }
   ],
   "source": [
    "import joblib\n",
    "\n",
    "# Save\n",
    "joblib.dump(model, 'titanic_model.pkl')\n",
    "print(\"Model saved successfully! 🎯\")\n",
    "\n",
    "# Load\n",
    "model = joblib.load('titanic_model.pkl')\n",
    "print(\"Model loaded successfully! 🚀\")\n",
    "\n"
   ]
  },
  {
   "cell_type": "code",
   "execution_count": 26,
   "id": "bbcf1a7f-5927-4499-a0ac-67a5a7a9c99e",
   "metadata": {},
   "outputs": [
    {
     "name": "stdout",
     "output_type": "stream",
     "text": [
      "Passenger 1: Survived 🛟\n",
      "Passenger 2: Did NOT survive 🚢💥\n",
      "Passenger 3: Survived 🛟\n",
      "Passenger 4: Did NOT survive 🚢💥\n",
      "Passenger 5: Survived 🛟\n"
     ]
    },
    {
     "name": "stderr",
     "output_type": "stream",
     "text": [
      "C:\\Users\\DELL\\AppData\\Local\\Programs\\Python\\Python313\\Lib\\site-packages\\sklearn\\utils\\validation.py:2739: UserWarning: X does not have valid feature names, but RandomForestClassifier was fitted with feature names\n",
      "  warnings.warn(\n"
     ]
    }
   ],
   "source": [
    "import numpy as np\n",
    "\n",
    "# Inputs\n",
    "test_passengers = np.array([\n",
    "    [1, 0, 25, 0, 0, 80, 0],\n",
    "    [3, 1, 30, 0, 0, 7.25, 2],\n",
    "    [2, 0, 22, 1, 0, 15, 2],\n",
    "    [3, 1, 45, 0, 0, 8.05, 2],\n",
    "    [1, 0, 60, 1, 1, 120, 0]\n",
    "])\n",
    "\n",
    "# Predict\n",
    "predictions = model.predict(test_passengers)\n",
    "\n",
    "# Display\n",
    "for i, prediction in enumerate(predictions):\n",
    "    status = \"Survived 🛟\" if prediction == 1 else \"Did NOT survive 🚢💥\"\n",
    "    print(f\"Passenger {i+1}: {status}\")\n"
   ]
  },
  {
   "cell_type": "code",
   "execution_count": 27,
   "id": "f8b9ae7e-9e1b-4c23-ba33-9e4e51ad421a",
   "metadata": {},
   "outputs": [
    {
     "name": "stdout",
     "output_type": "stream",
     "text": [
      "Passenger 1: Survived 🛟\n",
      "Passenger 2: Did NOT survive 🚢💥\n",
      "Passenger 3: Survived 🛟\n",
      "Passenger 4: Did NOT survive 🚢💥\n",
      "Passenger 5: Did NOT survive 🚢💥\n"
     ]
    },
    {
     "name": "stderr",
     "output_type": "stream",
     "text": [
      "C:\\Users\\DELL\\AppData\\Local\\Programs\\Python\\Python313\\Lib\\site-packages\\sklearn\\utils\\validation.py:2739: UserWarning: X does not have valid feature names, but RandomForestClassifier was fitted with feature names\n",
      "  warnings.warn(\n"
     ]
    }
   ],
   "source": [
    "import numpy as np\n",
    "\n",
    "# New passengers\n",
    "test_passengers_2 = np.array([\n",
    "    [1, 0, 19, 0, 0, 150, 0],  # Passenger 1\n",
    "    [3, 1, 40, 1, 5, 15, 2],   # Passenger 2\n",
    "    [2, 0, 28, 0, 0, 30, 1],   # Passenger 3\n",
    "    [1, 1, 50, 1, 0, 80, 0],   # Passenger 4\n",
    "    [3, 1, 24, 0, 0, 7.25, 2]  # Passenger 5\n",
    "])\n",
    "\n",
    "# Predict\n",
    "predictions_2 = model.predict(test_passengers_2)\n",
    "\n",
    "# Print results\n",
    "for idx, pred in enumerate(predictions_2, 1):\n",
    "    result = \"Survived 🛟\" if pred == 1 else \"Did NOT survive 🚢💥\"\n",
    "    print(f\"Passenger {idx}: {result}\")\n"
   ]
  },
  {
   "cell_type": "code",
   "execution_count": 28,
   "id": "75a6b36d-87a5-40af-891b-58906324745d",
   "metadata": {},
   "outputs": [
    {
     "name": "stdout",
     "output_type": "stream",
     "text": [
      "Passenger 1: Survived 🛟\n",
      "Passenger 2: Did NOT survive 🚢💥\n",
      "Passenger 3: Survived 🛟\n",
      "Passenger 4: Did NOT survive 🚢💥\n",
      "Passenger 5: Did NOT survive 🚢💥\n"
     ]
    },
    {
     "name": "stderr",
     "output_type": "stream",
     "text": [
      "C:\\Users\\DELL\\AppData\\Local\\Programs\\Python\\Python313\\Lib\\site-packages\\sklearn\\utils\\validation.py:2739: UserWarning: X does not have valid feature names, but RandomForestClassifier was fitted with feature names\n",
      "  warnings.warn(\n"
     ]
    }
   ],
   "source": [
    "import numpy as np\n",
    "\n",
    "# New passenger test data\n",
    "new_passengers = np.array([\n",
    "    [1, 0, 19, 0, 0, 150, 0],\n",
    "    [3, 1, 40, 1, 5, 15, 2],\n",
    "    [2, 0, 28, 0, 0, 30, 1],\n",
    "    [1, 1, 50, 1, 0, 80, 0],\n",
    "    [3, 1, 24, 0, 0, 7.25, 2]\n",
    "])\n",
    "\n",
    "# Predict\n",
    "predictions = model.predict(new_passengers)\n",
    "\n",
    "# Show Results\n",
    "for idx, prediction in enumerate(predictions, start=1):\n",
    "    status = \"Survived 🛟\" if prediction == 1 else \"Did NOT survive 🚢💥\"\n",
    "    print(f\"Passenger {idx}: {status}\")\n"
   ]
  },
  {
   "cell_type": "code",
   "execution_count": 32,
   "id": "1adf292c-c1f9-436c-9f61-2fb4a986f7e6",
   "metadata": {},
   "outputs": [
    {
     "name": "stdout",
     "output_type": "stream",
     "text": [
      "Model Raw Predictions: [0 0 0 0 0]\n",
      "Passenger 1: Did NOT survive 🚢💥\n",
      "Passenger 2: Did NOT survive 🚢💥\n",
      "Passenger 3: Did NOT survive 🚢💥\n",
      "Passenger 4: Did NOT survive 🚢💥\n",
      "Passenger 5: Did NOT survive 🚢💥\n"
     ]
    }
   ],
   "source": [
    "# Sample inputs where all are likely NOT to survive\n",
    "new_passengers = pd.DataFrame({\n",
    "    'Pclass': [3, 3, 3, 3, 3],  # 3rd class\n",
    "    'Sex': [1, 1, 1, 1, 1],     # Male\n",
    "    'Age': [40, 22, 35, 28, 50],# Adult males\n",
    "    'SibSp': [0, 0, 0, 0, 0],   # Traveling alone\n",
    "    'Parch': [0, 0, 0, 0, 0],   # No parents/children\n",
    "    'Fare': [7, 8, 6, 9, 5],    # Cheap tickets\n",
    "    'Embarked': [2, 2, 2, 2, 2] # Embarked from 'S'\n",
    "})\n",
    "\n",
    "# Predict using the loaded model\n",
    "predictions = model.predict(new_passengers)\n",
    "print(\"Model Raw Predictions:\", predictions)\n",
    "\n",
    "\n",
    "# Display predictions\n",
    "for idx, pred in enumerate(predictions, start=1):\n",
    "    if pred == 1:\n",
    "        print(f\"Passenger {idx}: Survived 🛟\")\n",
    "    else:\n",
    "        print(f\"Passenger {idx}: Did NOT survive 🚢💥\")\n",
    "\n"
   ]
  },
  {
   "cell_type": "code",
   "execution_count": 34,
   "id": "1746e0d2-2c9b-4758-9223-2b89b2009a48",
   "metadata": {},
   "outputs": [
    {
     "name": "stdout",
     "output_type": "stream",
     "text": [
      "Passenger 1: Survived 🛟\n",
      "Passenger 2: Survived 🛟\n",
      "Passenger 3: Did NOT survive 🚢💥\n",
      "Passenger 4: Did NOT survive 🚢💥\n",
      "Passenger 5: Did NOT survive 🚢💥\n"
     ]
    }
   ],
   "source": [
    "import pandas as pd\n",
    "\n",
    "# Create new test passengers\n",
    "new_passengers = pd.DataFrame({\n",
    "    'Pclass': [1, 1, 3, 3, 3],  # 1st class (more chance), 3rd class (less chance)\n",
    "    'Sex': [0, 0, 1, 1, 1],     # 0 = Female (high survival), 1 = Male (low survival)\n",
    "    'Age': [25, 30, 40, 35, 50],# Reasonable ages\n",
    "    'SibSp': [0, 1, 0, 0, 0],   # Family members\n",
    "    'Parch': [0, 0, 0, 0, 0],   # Parents/Children aboard\n",
    "    'Fare': [100, 80, 7, 6, 8], # Big fares for 1st class, low fares for 3rd class\n",
    "    'Embarked': [0, 0, 2, 2, 2] # Embarked points (doesn't matter much here)\n",
    "})\n",
    "\n",
    "# Predict\n",
    "predictions = model.predict(new_passengers)\n",
    "\n",
    "# Output results\n",
    "for i, pred in enumerate(predictions):\n",
    "    if pred == 1:\n",
    "        print(f\"Passenger {i+1}: Survived 🛟\")\n",
    "    else:\n",
    "        print(f\"Passenger {i+1}: Did NOT survive 🚢💥\")\n"
   ]
  },
  {
   "cell_type": "code",
   "execution_count": 35,
   "id": "4378b21f-c69a-4369-a731-e11710319861",
   "metadata": {},
   "outputs": [
    {
     "name": "stdout",
     "output_type": "stream",
     "text": [
      "✅ Model saved as titanic_model.pkl\n"
     ]
    }
   ],
   "source": [
    "import joblib\n",
    "\n",
    "# Save the trained model\n",
    "joblib.dump(model, 'titanic_model.pkl')\n",
    "print(\"✅ Model saved as titanic_model.pkl\")\n"
   ]
  },
  {
   "cell_type": "code",
   "execution_count": 36,
   "id": "e70f76e8-7b55-4a27-996f-a6160f1e8242",
   "metadata": {},
   "outputs": [
    {
     "data": {
      "text/plain": [
       "['label_encoder.pkl']"
      ]
     },
     "execution_count": 36,
     "metadata": {},
     "output_type": "execute_result"
    }
   ],
   "source": [
    "joblib.dump(label_encoder, 'label_encoder.pkl')\n"
   ]
  },
  {
   "cell_type": "code",
   "execution_count": 37,
   "id": "39cebeea-4a6e-422d-ae7e-a24067d94a7a",
   "metadata": {},
   "outputs": [
    {
     "name": "stdout",
     "output_type": "stream",
     "text": [
      "Passenger 1: Survived 🛟\n",
      "Passenger 2: Survived 🛟\n",
      "Passenger 3: Did NOT survive 🚢💥\n",
      "Passenger 4: Did NOT survive 🚢💥\n",
      "Passenger 5: Did NOT survive 🚢💥\n"
     ]
    }
   ],
   "source": [
    "import pandas as pd\n",
    "import joblib\n",
    "\n",
    "# Load model\n",
    "model = joblib.load('titanic_model.pkl')\n",
    "\n",
    "# Create new passengers (same as before)\n",
    "new_passengers = pd.DataFrame({\n",
    "    'Pclass': [1, 1, 3, 3, 3],\n",
    "    'Sex': [0, 0, 1, 1, 1],\n",
    "    'Age': [25, 30, 40, 35, 50],\n",
    "    'SibSp': [0, 1, 0, 0, 0],\n",
    "    'Parch': [0, 0, 0, 0, 0],\n",
    "    'Fare': [100, 80, 7, 6, 8],\n",
    "    'Embarked': [0, 0, 2, 2, 2]\n",
    "})\n",
    "\n",
    "# Predict\n",
    "predictions = model.predict(new_passengers)\n",
    "\n",
    "# Show results\n",
    "for i, pred in enumerate(predictions):\n",
    "    if pred == 1:\n",
    "        print(f\"Passenger {i+1}: Survived 🛟\")\n",
    "    else:\n",
    "        print(f\"Passenger {i+1}: Did NOT survive 🚢💥\")\n"
   ]
  },
  {
   "cell_type": "code",
   "execution_count": null,
   "id": "2f27e5eb-aabb-4418-98b5-77dbcfe11349",
   "metadata": {},
   "outputs": [],
   "source": []
  }
 ],
 "metadata": {
  "kernelspec": {
   "display_name": "Python 3 (ipykernel)",
   "language": "python",
   "name": "python3"
  },
  "language_info": {
   "codemirror_mode": {
    "name": "ipython",
    "version": 3
   },
   "file_extension": ".py",
   "mimetype": "text/x-python",
   "name": "python",
   "nbconvert_exporter": "python",
   "pygments_lexer": "ipython3",
   "version": "3.13.2"
  }
 },
 "nbformat": 4,
 "nbformat_minor": 5
}
